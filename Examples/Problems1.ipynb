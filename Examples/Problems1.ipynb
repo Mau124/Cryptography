{
 "cells": [
  {
   "cell_type": "code",
   "execution_count": 1,
   "metadata": {},
   "outputs": [],
   "source": [
    "import sys\n",
    "import random\n",
    "sys.path.append('../')\n",
    "\n",
    "import core.mod_math as mod\n",
    "import core.elliptic_curves as ec\n",
    "import core.cripto as cr"
   ]
  },
  {
   "attachments": {},
   "cell_type": "markdown",
   "metadata": {},
   "source": [
    "### Problema 1"
   ]
  },
  {
   "attachments": {},
   "cell_type": "markdown",
   "metadata": {},
   "source": [
    "Consideremos la curva elíptica E definida sobre $F_{13}$ de ecuación\n",
    "\n",
    "$$y^2 = x^3 + 10x + 6$$"
   ]
  },
  {
   "attachments": {},
   "cell_type": "markdown",
   "metadata": {},
   "source": [
    "**a)** Encontrar todos los puntos de la curva elíptica  E (14 en total contando el punto del infinito) y comprobar que el punto P(1, 2) tiene orden 14."
   ]
  },
  {
   "attachments": {},
   "cell_type": "markdown",
   "metadata": {},
   "source": [
    "Encontramos todos los puntos de la curva elíptica"
   ]
  },
  {
   "cell_type": "code",
   "execution_count": 2,
   "metadata": {},
   "outputs": [
    {
     "name": "stdout",
     "output_type": "stream",
     "text": [
      "--------------------------------------------------------------\n",
      "Tabla de procesamiento de datos\n",
      "    x^3 + Ax + B   y1, y2\n",
      "x                        \n",
      "0              6       []\n",
      "1              4  [2, 11]\n",
      "2              8       []\n",
      "3             11       []\n",
      "4              6       []\n",
      "5             12   [5, 8]\n",
      "6              9  [3, 10]\n",
      "7              3   [4, 9]\n",
      "8              0      [0]\n",
      "9              6       []\n",
      "10             1  [1, 12]\n",
      "11             4  [2, 11]\n",
      "12             8       []\n",
      "\n",
      "--------------------------------------------------------------\n",
      "Puntos finales\n",
      "     x     y\n",
      "   1.0   2.0\n",
      "   1.0  11.0\n",
      "   5.0   5.0\n",
      "   5.0   8.0\n",
      "   6.0   3.0\n",
      "   6.0  10.0\n",
      "   7.0   4.0\n",
      "   7.0   9.0\n",
      "   8.0   0.0\n",
      "  10.0   1.0\n",
      "  10.0  12.0\n",
      "  11.0   2.0\n",
      "  11.0  11.0\n",
      "   inf   inf\n",
      "\n",
      "--------------------------------------------------------------\n",
      "Número de puntos\n",
      "14\n"
     ]
    },
    {
     "data": {
      "text/html": [
       "<div>\n",
       "<style scoped>\n",
       "    .dataframe tbody tr th:only-of-type {\n",
       "        vertical-align: middle;\n",
       "    }\n",
       "\n",
       "    .dataframe tbody tr th {\n",
       "        vertical-align: top;\n",
       "    }\n",
       "\n",
       "    .dataframe thead th {\n",
       "        text-align: right;\n",
       "    }\n",
       "</style>\n",
       "<table border=\"1\" class=\"dataframe\">\n",
       "  <thead>\n",
       "    <tr style=\"text-align: right;\">\n",
       "      <th></th>\n",
       "      <th>x</th>\n",
       "      <th>y</th>\n",
       "    </tr>\n",
       "  </thead>\n",
       "  <tbody>\n",
       "    <tr>\n",
       "      <th></th>\n",
       "      <td>1.0</td>\n",
       "      <td>2.0</td>\n",
       "    </tr>\n",
       "    <tr>\n",
       "      <th></th>\n",
       "      <td>1.0</td>\n",
       "      <td>11.0</td>\n",
       "    </tr>\n",
       "    <tr>\n",
       "      <th></th>\n",
       "      <td>5.0</td>\n",
       "      <td>5.0</td>\n",
       "    </tr>\n",
       "    <tr>\n",
       "      <th></th>\n",
       "      <td>5.0</td>\n",
       "      <td>8.0</td>\n",
       "    </tr>\n",
       "    <tr>\n",
       "      <th></th>\n",
       "      <td>6.0</td>\n",
       "      <td>3.0</td>\n",
       "    </tr>\n",
       "    <tr>\n",
       "      <th></th>\n",
       "      <td>6.0</td>\n",
       "      <td>10.0</td>\n",
       "    </tr>\n",
       "    <tr>\n",
       "      <th></th>\n",
       "      <td>7.0</td>\n",
       "      <td>4.0</td>\n",
       "    </tr>\n",
       "    <tr>\n",
       "      <th></th>\n",
       "      <td>7.0</td>\n",
       "      <td>9.0</td>\n",
       "    </tr>\n",
       "    <tr>\n",
       "      <th></th>\n",
       "      <td>8.0</td>\n",
       "      <td>0.0</td>\n",
       "    </tr>\n",
       "    <tr>\n",
       "      <th></th>\n",
       "      <td>10.0</td>\n",
       "      <td>1.0</td>\n",
       "    </tr>\n",
       "    <tr>\n",
       "      <th></th>\n",
       "      <td>10.0</td>\n",
       "      <td>12.0</td>\n",
       "    </tr>\n",
       "    <tr>\n",
       "      <th></th>\n",
       "      <td>11.0</td>\n",
       "      <td>2.0</td>\n",
       "    </tr>\n",
       "    <tr>\n",
       "      <th></th>\n",
       "      <td>11.0</td>\n",
       "      <td>11.0</td>\n",
       "    </tr>\n",
       "    <tr>\n",
       "      <th></th>\n",
       "      <td>inf</td>\n",
       "      <td>inf</td>\n",
       "    </tr>\n",
       "  </tbody>\n",
       "</table>\n",
       "</div>"
      ],
      "text/plain": [
       "     x     y\n",
       "   1.0   2.0\n",
       "   1.0  11.0\n",
       "   5.0   5.0\n",
       "   5.0   8.0\n",
       "   6.0   3.0\n",
       "   6.0  10.0\n",
       "   7.0   4.0\n",
       "   7.0   9.0\n",
       "   8.0   0.0\n",
       "  10.0   1.0\n",
       "  10.0  12.0\n",
       "  11.0   2.0\n",
       "  11.0  11.0\n",
       "   inf   inf"
      ]
     },
     "execution_count": 2,
     "metadata": {},
     "output_type": "execute_result"
    }
   ],
   "source": [
    "# Utilizamos la función que obtiene todos los puntos\n",
    "# Esta funcion devuelve la tabla con la que se realizan los cálculos\n",
    "# Además de los puntos y el número total de puntos\n",
    "table, points, n_points = ec.get_all_ec_points(a = 10, b = 6, p = 13)\n",
    "print('Tabla de procesamiento de datos')\n",
    "table"
   ]
  },
  {
   "cell_type": "code",
   "execution_count": null,
   "metadata": {},
   "outputs": [],
   "source": []
  },
  {
   "attachments": {},
   "cell_type": "markdown",
   "metadata": {},
   "source": [
    "Comprobamos que el punto P(1, 2) tiene orden 14"
   ]
  },
  {
   "cell_type": "code",
   "execution_count": 3,
   "metadata": {},
   "outputs": [
    {
     "data": {
      "text/plain": [
       "14"
      ]
     },
     "execution_count": 3,
     "metadata": {},
     "output_type": "execute_result"
    }
   ],
   "source": [
    "ec.order_point(1, 2, 10, 13)"
   ]
  },
  {
   "attachments": {},
   "cell_type": "markdown",
   "metadata": {},
   "source": [
    "Como se observa, el punto P(1, 2) tiene orden 14"
   ]
  },
  {
   "attachments": {},
   "cell_type": "markdown",
   "metadata": {},
   "source": [
    "**b)** Si queremos cifrar y descifrar mensajes con el esquema ElGamal elíptico con parámetros (p, a, b, P, n) = (13, 10, 6, (5, 5), 7)  y hemos elegido como clave privada d=4 ¿cuál es nuestra clave pública?"
   ]
  },
  {
   "attachments": {},
   "cell_type": "markdown",
   "metadata": {},
   "source": [
    "La clave pública se encuentra utilizando el punto generador $P(5, 5)$ y multiplicándolo por la clave privada d = 4"
   ]
  },
  {
   "cell_type": "code",
   "execution_count": 9,
   "metadata": {},
   "outputs": [
    {
     "name": "stdout",
     "output_type": "stream",
     "text": [
      "La clave públic es: (11, 2)\n"
     ]
    }
   ],
   "source": [
    "print(f'La clave públic es: {ec.mult_finite(4, 5, 5, 10, 13)}')"
   ]
  },
  {
   "attachments": {},
   "cell_type": "markdown",
   "metadata": {},
   "source": [
    "**c)** Cifrar el mensaje m = 10 con la clave pública del apartado anterior"
   ]
  },
  {
   "cell_type": "code",
   "execution_count": 14,
   "metadata": {},
   "outputs": [
    {
     "name": "stdout",
     "output_type": "stream",
     "text": [
      "La llave efimera es: 5\n"
     ]
    },
    {
     "data": {
      "text/plain": [
       "(7, 2)"
      ]
     },
     "execution_count": 14,
     "metadata": {},
     "output_type": "execute_result"
    }
   ],
   "source": [
    "# Seleccionamos un valor aleatorio para la clave efimera K entre 1 y n-1, en donde n = 7\n",
    "k = random.randint(1, 6)\n",
    "print(f'La llave efimera es: {k}')\n",
    "\n",
    "cr.ECDSA(5, 5, 10, 13, 4, k, 7, 10)\n"
   ]
  },
  {
   "attachments": {},
   "cell_type": "markdown",
   "metadata": {},
   "source": [
    "### Problema 2"
   ]
  },
  {
   "attachments": {},
   "cell_type": "markdown",
   "metadata": {},
   "source": [
    "Consideremos la curva elíptica $E$ definida sobre $F_{347}$  de ecuación:\n",
    "\n",
    "$$y^2 = x^3 + 333x + 2$$\n",
    "\n",
    "y el punto $P(110, 136)$"
   ]
  },
  {
   "attachments": {},
   "cell_type": "markdown",
   "metadata": {},
   "source": [
    "**a)** Sabiendo que el cardinal de la curva es 358. ¿podemos decir que la curva es criptográficamente útil? ¿Cuál es el orden del punto P? ¿Entre qué posibles valores se puede escoger la clave privada?"
   ]
  },
  {
   "attachments": {},
   "cell_type": "markdown",
   "metadata": {},
   "source": [
    "Orden el punto P(110, 136) sobre la curva elíptica"
   ]
  },
  {
   "cell_type": "code",
   "execution_count": 5,
   "metadata": {},
   "outputs": [
    {
     "name": "stdout",
     "output_type": "stream",
     "text": [
      "Orden el punto: 179\n"
     ]
    }
   ],
   "source": [
    "print(f'Orden el punto: {ec.order_point(110, 136, 333, 347)}')"
   ]
  },
  {
   "attachments": {},
   "cell_type": "markdown",
   "metadata": {},
   "source": [
    "**b)** Si tu clave privada es d = 101 y  un amigo te ha enviado el mensaje cifrado:\n",
    "\n",
    "$$(C_1 = (232, 278), C_2 = (135, 214) )$$\n",
    "\n",
    "¿cuál es el mensaje original?"
   ]
  },
  {
   "cell_type": "code",
   "execution_count": 7,
   "metadata": {},
   "outputs": [
    {
     "name": "stdout",
     "output_type": "stream",
     "text": [
      "El mensaje original es: (74, 87)\n"
     ]
    }
   ],
   "source": [
    "print(f'El mensaje original es: {cr.decipher_ec_elgamal((232, 278), (135, 214), 101, 333, 347)}')"
   ]
  }
 ],
 "metadata": {
  "kernelspec": {
   "display_name": "school",
   "language": "python",
   "name": "school"
  },
  "language_info": {
   "codemirror_mode": {
    "name": "ipython",
    "version": 3
   },
   "file_extension": ".py",
   "mimetype": "text/x-python",
   "name": "python",
   "nbconvert_exporter": "python",
   "pygments_lexer": "ipython3",
   "version": "3.9.7"
  },
  "orig_nbformat": 4
 },
 "nbformat": 4,
 "nbformat_minor": 2
}
