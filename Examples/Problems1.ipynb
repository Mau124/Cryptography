{
 "cells": [
  {
   "attachments": {},
   "cell_type": "markdown",
   "metadata": {},
   "source": [
    "# Actividad última curvas elípticas"
   ]
  },
  {
   "attachments": {},
   "cell_type": "markdown",
   "metadata": {},
   "source": [
    "Importación de nuestras propios códigos para ser utilizados en el programa"
   ]
  },
  {
   "cell_type": "code",
   "execution_count": 1,
   "metadata": {},
   "outputs": [],
   "source": [
    "import sys\n",
    "import random\n",
    "sys.path.append('../')\n",
    "\n",
    "import core.mod_math as mod\n",
    "import core.elliptic_curves as ec\n",
    "import core.cripto as cr"
   ]
  },
  {
   "attachments": {},
   "cell_type": "markdown",
   "metadata": {},
   "source": [
    "### Problema 1"
   ]
  },
  {
   "attachments": {},
   "cell_type": "markdown",
   "metadata": {},
   "source": [
    "Consideremos la curva elíptica E definida sobre $F_{13}$ de ecuación\n",
    "\n",
    "$$y^2 = x^3 + 10x + 6$$"
   ]
  },
  {
   "attachments": {},
   "cell_type": "markdown",
   "metadata": {},
   "source": [
    "**a)** Encontrar todos los puntos de la curva elíptica  E (14 en total contando el punto del infinito) y comprobar que el punto P(1, 2) tiene orden 14."
   ]
  },
  {
   "attachments": {},
   "cell_type": "markdown",
   "metadata": {},
   "source": [
    "Encontramos todos los puntos de la curva elíptica"
   ]
  },
  {
   "cell_type": "code",
   "execution_count": 2,
   "metadata": {},
   "outputs": [
    {
     "name": "stdout",
     "output_type": "stream",
     "text": [
      "Tabla de procesamiento de datos\n"
     ]
    },
    {
     "data": {
      "text/html": [
       "<div>\n",
       "<style scoped>\n",
       "    .dataframe tbody tr th:only-of-type {\n",
       "        vertical-align: middle;\n",
       "    }\n",
       "\n",
       "    .dataframe tbody tr th {\n",
       "        vertical-align: top;\n",
       "    }\n",
       "\n",
       "    .dataframe thead th {\n",
       "        text-align: right;\n",
       "    }\n",
       "</style>\n",
       "<table border=\"1\" class=\"dataframe\">\n",
       "  <thead>\n",
       "    <tr style=\"text-align: right;\">\n",
       "      <th></th>\n",
       "      <th>x^3 + Ax + B</th>\n",
       "      <th>y1, y2</th>\n",
       "    </tr>\n",
       "    <tr>\n",
       "      <th>x</th>\n",
       "      <th></th>\n",
       "      <th></th>\n",
       "    </tr>\n",
       "  </thead>\n",
       "  <tbody>\n",
       "    <tr>\n",
       "      <th>0</th>\n",
       "      <td>6</td>\n",
       "      <td>[]</td>\n",
       "    </tr>\n",
       "    <tr>\n",
       "      <th>1</th>\n",
       "      <td>4</td>\n",
       "      <td>[2, 11]</td>\n",
       "    </tr>\n",
       "    <tr>\n",
       "      <th>2</th>\n",
       "      <td>8</td>\n",
       "      <td>[]</td>\n",
       "    </tr>\n",
       "    <tr>\n",
       "      <th>3</th>\n",
       "      <td>11</td>\n",
       "      <td>[]</td>\n",
       "    </tr>\n",
       "    <tr>\n",
       "      <th>4</th>\n",
       "      <td>6</td>\n",
       "      <td>[]</td>\n",
       "    </tr>\n",
       "    <tr>\n",
       "      <th>5</th>\n",
       "      <td>12</td>\n",
       "      <td>[5, 8]</td>\n",
       "    </tr>\n",
       "    <tr>\n",
       "      <th>6</th>\n",
       "      <td>9</td>\n",
       "      <td>[3, 10]</td>\n",
       "    </tr>\n",
       "    <tr>\n",
       "      <th>7</th>\n",
       "      <td>3</td>\n",
       "      <td>[4, 9]</td>\n",
       "    </tr>\n",
       "    <tr>\n",
       "      <th>8</th>\n",
       "      <td>0</td>\n",
       "      <td>[0]</td>\n",
       "    </tr>\n",
       "    <tr>\n",
       "      <th>9</th>\n",
       "      <td>6</td>\n",
       "      <td>[]</td>\n",
       "    </tr>\n",
       "    <tr>\n",
       "      <th>10</th>\n",
       "      <td>1</td>\n",
       "      <td>[1, 12]</td>\n",
       "    </tr>\n",
       "    <tr>\n",
       "      <th>11</th>\n",
       "      <td>4</td>\n",
       "      <td>[2, 11]</td>\n",
       "    </tr>\n",
       "    <tr>\n",
       "      <th>12</th>\n",
       "      <td>8</td>\n",
       "      <td>[]</td>\n",
       "    </tr>\n",
       "  </tbody>\n",
       "</table>\n",
       "</div>"
      ],
      "text/plain": [
       "    x^3 + Ax + B   y1, y2\n",
       "x                        \n",
       "0              6       []\n",
       "1              4  [2, 11]\n",
       "2              8       []\n",
       "3             11       []\n",
       "4              6       []\n",
       "5             12   [5, 8]\n",
       "6              9  [3, 10]\n",
       "7              3   [4, 9]\n",
       "8              0      [0]\n",
       "9              6       []\n",
       "10             1  [1, 12]\n",
       "11             4  [2, 11]\n",
       "12             8       []"
      ]
     },
     "execution_count": 2,
     "metadata": {},
     "output_type": "execute_result"
    }
   ],
   "source": [
    "# Utilizamos la función que obtiene todos los puntos\n",
    "# Esta funcion devuelve la tabla con la que se realizan los cálculos\n",
    "# Además de los puntos y el número total de puntos\n",
    "table, points, n_points = ec.get_all_ec_points(a = 10, b = 6, p = 13)\n",
    "print('Tabla de procesamiento de datos')\n",
    "table"
   ]
  },
  {
   "cell_type": "code",
   "execution_count": 3,
   "metadata": {},
   "outputs": [
    {
     "name": "stdout",
     "output_type": "stream",
     "text": [
      "Tabla con los puntos finales en x y y\n"
     ]
    },
    {
     "data": {
      "text/html": [
       "<div>\n",
       "<style scoped>\n",
       "    .dataframe tbody tr th:only-of-type {\n",
       "        vertical-align: middle;\n",
       "    }\n",
       "\n",
       "    .dataframe tbody tr th {\n",
       "        vertical-align: top;\n",
       "    }\n",
       "\n",
       "    .dataframe thead th {\n",
       "        text-align: right;\n",
       "    }\n",
       "</style>\n",
       "<table border=\"1\" class=\"dataframe\">\n",
       "  <thead>\n",
       "    <tr style=\"text-align: right;\">\n",
       "      <th></th>\n",
       "      <th>x</th>\n",
       "      <th>y</th>\n",
       "    </tr>\n",
       "  </thead>\n",
       "  <tbody>\n",
       "    <tr>\n",
       "      <th></th>\n",
       "      <td>1.0</td>\n",
       "      <td>2.0</td>\n",
       "    </tr>\n",
       "    <tr>\n",
       "      <th></th>\n",
       "      <td>1.0</td>\n",
       "      <td>11.0</td>\n",
       "    </tr>\n",
       "    <tr>\n",
       "      <th></th>\n",
       "      <td>5.0</td>\n",
       "      <td>5.0</td>\n",
       "    </tr>\n",
       "    <tr>\n",
       "      <th></th>\n",
       "      <td>5.0</td>\n",
       "      <td>8.0</td>\n",
       "    </tr>\n",
       "    <tr>\n",
       "      <th></th>\n",
       "      <td>6.0</td>\n",
       "      <td>3.0</td>\n",
       "    </tr>\n",
       "    <tr>\n",
       "      <th></th>\n",
       "      <td>6.0</td>\n",
       "      <td>10.0</td>\n",
       "    </tr>\n",
       "    <tr>\n",
       "      <th></th>\n",
       "      <td>7.0</td>\n",
       "      <td>4.0</td>\n",
       "    </tr>\n",
       "    <tr>\n",
       "      <th></th>\n",
       "      <td>7.0</td>\n",
       "      <td>9.0</td>\n",
       "    </tr>\n",
       "    <tr>\n",
       "      <th></th>\n",
       "      <td>8.0</td>\n",
       "      <td>0.0</td>\n",
       "    </tr>\n",
       "    <tr>\n",
       "      <th></th>\n",
       "      <td>10.0</td>\n",
       "      <td>1.0</td>\n",
       "    </tr>\n",
       "    <tr>\n",
       "      <th></th>\n",
       "      <td>10.0</td>\n",
       "      <td>12.0</td>\n",
       "    </tr>\n",
       "    <tr>\n",
       "      <th></th>\n",
       "      <td>11.0</td>\n",
       "      <td>2.0</td>\n",
       "    </tr>\n",
       "    <tr>\n",
       "      <th></th>\n",
       "      <td>11.0</td>\n",
       "      <td>11.0</td>\n",
       "    </tr>\n",
       "    <tr>\n",
       "      <th></th>\n",
       "      <td>inf</td>\n",
       "      <td>inf</td>\n",
       "    </tr>\n",
       "  </tbody>\n",
       "</table>\n",
       "</div>"
      ],
      "text/plain": [
       "     x     y\n",
       "   1.0   2.0\n",
       "   1.0  11.0\n",
       "   5.0   5.0\n",
       "   5.0   8.0\n",
       "   6.0   3.0\n",
       "   6.0  10.0\n",
       "   7.0   4.0\n",
       "   7.0   9.0\n",
       "   8.0   0.0\n",
       "  10.0   1.0\n",
       "  10.0  12.0\n",
       "  11.0   2.0\n",
       "  11.0  11.0\n",
       "   inf   inf"
      ]
     },
     "execution_count": 3,
     "metadata": {},
     "output_type": "execute_result"
    }
   ],
   "source": [
    "print('Tabla con los puntos finales en x y y')\n",
    "points"
   ]
  },
  {
   "cell_type": "code",
   "execution_count": 4,
   "metadata": {},
   "outputs": [
    {
     "name": "stdout",
     "output_type": "stream",
     "text": [
      "El número de puntos de la curva elíptica es 14\n"
     ]
    }
   ],
   "source": [
    "print(f'El número de puntos de la curva elíptica es {n_points}')"
   ]
  },
  {
   "attachments": {},
   "cell_type": "markdown",
   "metadata": {},
   "source": [
    "Comprobamos que el punto P(1, 2) tiene orden 14"
   ]
  },
  {
   "cell_type": "code",
   "execution_count": 7,
   "metadata": {},
   "outputs": [
    {
     "name": "stdout",
     "output_type": "stream",
     "text": [
      "El orden el punto es: 14\n"
     ]
    }
   ],
   "source": [
    "print(f'El orden el punto es: {ec.order_point(x = 1, y = 2, a = 10, p = 13)}')"
   ]
  },
  {
   "attachments": {},
   "cell_type": "markdown",
   "metadata": {},
   "source": [
    "Como se observa, el punto P(1, 2) tiene en efecto orden 14"
   ]
  },
  {
   "attachments": {},
   "cell_type": "markdown",
   "metadata": {},
   "source": [
    "**b)** Si queremos cifrar y descifrar mensajes con el esquema ElGamal elíptico con parámetros (p, a, b, P, n) = (13, 10, 6, (5, 5), 7)  y hemos elegido como clave privada d=4 ¿cuál es nuestra clave pública?"
   ]
  },
  {
   "attachments": {},
   "cell_type": "markdown",
   "metadata": {},
   "source": [
    "La clave pública se encuentra utilizando el punto generador $P(5, 5)$ y multiplicándolo por la clave privada d = 4"
   ]
  },
  {
   "cell_type": "code",
   "execution_count": 8,
   "metadata": {},
   "outputs": [
    {
     "name": "stdout",
     "output_type": "stream",
     "text": [
      "La clave públic es: (11, 2)\n"
     ]
    }
   ],
   "source": [
    "print(f'La clave pública es: {ec.mult_finite(n = 4, x = 5, y = 5, a = 10, p = 13)}')"
   ]
  },
  {
   "attachments": {},
   "cell_type": "markdown",
   "metadata": {},
   "source": [
    "**c)** Cifrar el mensaje m = 10 con la clave pública del apartado anterior"
   ]
  },
  {
   "cell_type": "code",
   "execution_count": 14,
   "metadata": {},
   "outputs": [
    {
     "name": "stdout",
     "output_type": "stream",
     "text": [
      "La llave efimera es: 1\n",
      "La firma dígital es (5, 2)\n"
     ]
    }
   ],
   "source": [
    "# Seleccionamos un valor aleatorio para la clave efimera K entre 1 y n-1, en donde n = 7\n",
    "k = random.randint(1, 6)\n",
    "print(f'La llave efimera es: {k}')\n",
    "\n",
    "# Generamos la firma dígital r, s\n",
    "print(f'La firma dígital es {cr.ECDSA(x = 5, y = 5, a = 10, q = 13, d = 4, k = k, n = 7, m = 10)}')\n"
   ]
  },
  {
   "attachments": {},
   "cell_type": "markdown",
   "metadata": {},
   "source": [
    "### Problema 2"
   ]
  },
  {
   "attachments": {},
   "cell_type": "markdown",
   "metadata": {},
   "source": [
    "Consideremos la curva elíptica $E$ definida sobre $F_{347}$  de ecuación:\n",
    "\n",
    "$$y^2 = x^3 + 333x + 2$$\n",
    "\n",
    "y el punto $P(110, 136)$"
   ]
  },
  {
   "cell_type": "code",
   "execution_count": 21,
   "metadata": {},
   "outputs": [
    {
     "data": {
      "text/plain": [
       "358"
      ]
     },
     "execution_count": 21,
     "metadata": {},
     "output_type": "execute_result"
    }
   ],
   "source": [
    "ec.order_point(2, 26, 333, 347)"
   ]
  },
  {
   "attachments": {},
   "cell_type": "markdown",
   "metadata": {},
   "source": [
    "**a)** Sabiendo que el cardinal de la curva es 358. ¿podemos decir que la curva es criptográficamente útil? ¿Cuál es el orden del punto P? ¿Entre qué posibles valores se puede escoger la clave privada?"
   ]
  },
  {
   "attachments": {},
   "cell_type": "markdown",
   "metadata": {},
   "source": [
    "Orden el punto P(110, 136) sobre la curva elíptica"
   ]
  },
  {
   "cell_type": "code",
   "execution_count": 23,
   "metadata": {},
   "outputs": [
    {
     "name": "stdout",
     "output_type": "stream",
     "text": [
      "EL orden del punto P(110, 136) es: 179\n"
     ]
    }
   ],
   "source": [
    "print(f'EL orden del punto P(110, 136) es: {ec.order_point(110, 136, 333, 347)}')"
   ]
  },
  {
   "attachments": {},
   "cell_type": "markdown",
   "metadata": {},
   "source": [
    "Para saber si la curva es criptográficamente útil, es necesario más información que solo el cardinal de la curva. Con sólo el cardinal podemos saber que no es un cardinal pequeño y que por tanto tiene muy buenas chances de ser criptográficamente útil, pero si es realmente útil o no dependerá también del orden del punto que se escoja como generador. Para este caso, el punto generador es P(110, 136). En este caso los posibles valores entre los cuales podemos escoger una clave privada están entre el 1 y el orden de ese punto menos 1, es decir, entre [1, 178] ¿Por qué? Recordemos que en criptografía de curvas elípticas es necesario en algún punto de los cálculos multiplicar el punto generador por la clave privada. La clave privada tiene que ser forzosamente menor al orden el punto ya que si es mayor, la multiplicación llegará en un punto a la identidad, lo que no solo imposibilita los cálculos computacionalmente, sino que también ya no tiene caso seguir sumando, por que solo se obtendrán puntos que ya se habían obtenido por la naturaleza cíclica de la suma en curvas elípticas discretas."
   ]
  },
  {
   "attachments": {},
   "cell_type": "markdown",
   "metadata": {},
   "source": [
    "La seguridad de una curva elíptica esta dadá por que tan díficil es encontrar la llave privada de la información pública que tenemos, es decir, resolver el problema de DH aplicado a curvas elípticas. En este caso, sabemos que la clave pública es algo como esto: Q = sP, donde P es el punto generador, Q es la clave pública y s es la clave privada. Si quisieramos obtener s, entonces tendríamos que probar para cada punto todas las multiplicaciones posibles. Para esta curva elíptica con 358 puntos habría que probar varias multiplicaciones, teniendo que multiplicar en algunos casos hasta 179 que es el orden de este punto. Claramente no todos los puntos de la curva elíptica tienen el mismo orden y algunos puntos pueden tener ordenes pequeños o grandes. Si supusieramos que todos los puntos tienen el mismo orden de 179, entonces serían necesarias 358*179 operaciones para resolver el problema de DH en curvas elípticas. Esto está en el orden de 100,000 operaciones. Esto significa que la curva no es útil criptográficamente para entornos donde existan computadoras decentes, ya que estás podrían resolver el problema del DH en un tiempo muy reducido. "
   ]
  },
  {
   "attachments": {},
   "cell_type": "markdown",
   "metadata": {},
   "source": [
    "**b)** Si tu clave privada es d = 101 y  un amigo te ha enviado el mensaje cifrado:\n",
    "\n",
    "$$(C_1 = (232, 278), C_2 = (135, 214) )$$\n",
    "\n",
    "¿cuál es el mensaje original?"
   ]
  },
  {
   "cell_type": "code",
   "execution_count": 7,
   "metadata": {},
   "outputs": [
    {
     "name": "stdout",
     "output_type": "stream",
     "text": [
      "El mensaje original es: (74, 87)\n"
     ]
    }
   ],
   "source": [
    "print(f'El mensaje original es: {cr.decipher_ec_elgamal((232, 278), (135, 214), 101, 333, 347)}')"
   ]
  }
 ],
 "metadata": {
  "kernelspec": {
   "display_name": "school",
   "language": "python",
   "name": "school"
  },
  "language_info": {
   "codemirror_mode": {
    "name": "ipython",
    "version": 3
   },
   "file_extension": ".py",
   "mimetype": "text/x-python",
   "name": "python",
   "nbconvert_exporter": "python",
   "pygments_lexer": "ipython3",
   "version": "3.9.7"
  },
  "orig_nbformat": 4
 },
 "nbformat": 4,
 "nbformat_minor": 2
}
